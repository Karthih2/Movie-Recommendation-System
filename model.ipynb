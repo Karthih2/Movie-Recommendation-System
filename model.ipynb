{
 "cells": [
  {
   "cell_type": "code",
   "execution_count": 29,
   "metadata": {},
   "outputs": [
    {
     "name": "stdout",
     "output_type": "stream",
     "text": [
      "Recommended Movies:\n",
      "memento\n",
      "the matrix reloaded\n",
      "the matrix revolutions\n",
      "primer\n",
      "the dark knight rises\n",
      "g.i. joe: the rise of cobra\n",
      "looper\n",
      "mad max: fury road\n",
      "star trek: nemesis\n",
      "interstellar\n"
     ]
    }
   ],
   "source": [
    "import pandas as pd\n",
    "from sklearn.feature_extraction.text import TfidfVectorizer\n",
    "from sklearn.metrics.pairwise import cosine_similarity\n",
    "\n",
    "# Load the sample dataset\n",
    "movies_en = pd.read_csv('English_movies.csv')\n",
    "\n",
    "# Clean the data (strip extra spaces and convert to lowercase)\n",
    "movies_en['MovieName'] = movies_en['MovieName'].str.strip().str.lower()\n",
    "movies_en['tags'] = movies_en['tags'].str.strip()\n",
    "\n",
    "# Combine Genre, MovieName, and Tags into a single string for each movie\n",
    "movies_en['combined_features'] = movies_en['Genre'] + \" \" + movies_en['MovieName'] + \" \" + movies_en['tags']\n",
    "\n",
    "# Initialize the TfidfVectorizer and fit_transform it on the combined features\n",
    "tfidf_en = TfidfVectorizer(stop_words='english')\n",
    "tfidf_matrix_en = tfidf_en.fit_transform(movies_en['combined_features'])\n",
    "\n",
    "# Compute cosine similarity between all movies\n",
    "cosin_sim_en = cosine_similarity(tfidf_matrix_en, tfidf_matrix_en)\n",
    "\n",
    "def get_recommendation_en(title):\n",
    "    title_lower = title.lower()  # Normalize title to lowercase\n",
    "    \n",
    "    # Check if movie exists in the dataset\n",
    "    if title_lower not in movies_en['MovieName'].str.lower().values:\n",
    "        return \"English Movie not found.\"\n",
    "    \n",
    "    # Get the index of the movie\n",
    "    idx = movies_en[movies_en['MovieName'].str.lower() == title_lower].index[0]\n",
    "    \n",
    "    # Get similarity scores of the movie with others\n",
    "    sim_scores = list(enumerate(cosin_sim_en[idx]))\n",
    "    sim_scores = sorted(sim_scores, key=lambda x: x[1], reverse=True)\n",
    "    \n",
    "    # Get the indices of the top 10 most similar movies\n",
    "    sim_scores = sim_scores[1:11]  # Exclude the movie itself\n",
    "    movie_indices = [i[0] for i in sim_scores]\n",
    "    \n",
    "    # Return the movie names from the top 10 most similar movies\n",
    "    return movies_en['MovieName'].iloc[movie_indices].tolist()\n",
    "\n",
    "\n",
    "title = input(\"Enter the movie title: \").strip()\n",
    "\n",
    "recommendations = get_recommendation_en(title)\n",
    "\n",
    "\n",
    "if isinstance(recommendations, list):\n",
    "    if recommendations:\n",
    "        print(\"Recommended Movies:\")\n",
    "        for movie in recommendations:\n",
    "            print(movie)\n",
    "    else:\n",
    "        print(\"No recommendations found.\")\n",
    "else:\n",
    "    print(recommendations)\n"
   ]
  },
  {
   "cell_type": "code",
   "execution_count": 27,
   "metadata": {},
   "outputs": [],
   "source": [
    "import pickle\n",
    "\n",
    "# Save English movie dataset and cosine similarity matrix\n",
    "with open('English_Movie_Recommendation.pkl', 'wb') as file:\n",
    "    pickle.dump((movies_en, cosin_sim_en), file)"
   ]
  },
  {
   "cell_type": "code",
   "execution_count": null,
   "metadata": {},
   "outputs": [],
   "source": []
  },
  {
   "cell_type": "code",
   "execution_count": null,
   "metadata": {},
   "outputs": [],
   "source": []
  },
  {
   "cell_type": "code",
   "execution_count": null,
   "metadata": {},
   "outputs": [],
   "source": []
  },
  {
   "cell_type": "code",
   "execution_count": null,
   "metadata": {},
   "outputs": [],
   "source": []
  },
  {
   "cell_type": "code",
   "execution_count": null,
   "metadata": {},
   "outputs": [],
   "source": []
  },
  {
   "cell_type": "code",
   "execution_count": null,
   "metadata": {},
   "outputs": [],
   "source": []
  },
  {
   "cell_type": "code",
   "execution_count": null,
   "metadata": {},
   "outputs": [],
   "source": []
  },
  {
   "cell_type": "code",
   "execution_count": null,
   "metadata": {},
   "outputs": [],
   "source": []
  }
 ],
 "metadata": {
  "kernelspec": {
   "display_name": "Python 3",
   "language": "python",
   "name": "python3"
  },
  "language_info": {
   "codemirror_mode": {
    "name": "ipython",
    "version": 3
   },
   "file_extension": ".py",
   "mimetype": "text/x-python",
   "name": "python",
   "nbconvert_exporter": "python",
   "pygments_lexer": "ipython3",
   "version": "3.12.4"
  }
 },
 "nbformat": 4,
 "nbformat_minor": 2
}
